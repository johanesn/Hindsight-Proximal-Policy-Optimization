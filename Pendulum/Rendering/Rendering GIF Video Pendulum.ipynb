{
 "cells": [
  {
   "cell_type": "code",
   "execution_count": 2,
   "metadata": {},
   "outputs": [],
   "source": [
    "import math\n",
    "import random\n",
    "\n",
    "import gym\n",
    "import numpy as np\n",
    "        \n",
    "import torch\n",
    "import torch.nn as nn\n",
    "import torch.optim as optim\n",
    "import torch.nn.functional as F\n",
    "from torch.distributions import Normal,Beta\n",
    "\n",
    "from IPython.display import clear_output\n",
    "from PIL import Image"
   ]
  },
  {
   "cell_type": "markdown",
   "metadata": {},
   "source": [
    "# Load Expert Model"
   ]
  },
  {
   "cell_type": "code",
   "execution_count": 3,
   "metadata": {},
   "outputs": [],
   "source": [
    "def init_weights(m):\n",
    "    if isinstance(m, nn.Linear):\n",
    "        nn.init.normal_(m.weight, mean=0., std=0.1)\n",
    "        nn.init.constant_(m.bias, 0.1)\n",
    "        \n",
    "\n",
    "class ActorCritic(nn.Module):\n",
    "    def __init__(self, num_inputs, num_outputs, hidden_size, std=0.0):\n",
    "        super(ActorCritic, self).__init__()\n",
    "        \n",
    "        self.critic = nn.Sequential(\n",
    "            nn.Linear(num_inputs, hidden_size),\n",
    "            nn.ReLU(),\n",
    "            nn.Linear(hidden_size, 1)\n",
    "        )\n",
    "        \n",
    "        self.actor = nn.Sequential(\n",
    "            nn.Linear(num_inputs, hidden_size),\n",
    "            nn.ReLU(),\n",
    "            nn.Linear(hidden_size, num_outputs),\n",
    "        )\n",
    "        self.log_std = nn.Parameter(torch.ones(1, num_outputs) * std)\n",
    "        \n",
    "        self.apply(init_weights)\n",
    "        \n",
    "    def forward(self, x):\n",
    "        value = self.critic(x)\n",
    "        mu    = self.actor(x)\n",
    "        std   = self.log_std.exp().expand_as(mu)\n",
    "        dist  = Normal(mu, std)\n",
    "        return dist, value"
   ]
  },
  {
   "cell_type": "code",
   "execution_count": 4,
   "metadata": {},
   "outputs": [],
   "source": [
    "env = gym.make('Pendulum-v0')\n",
    "num_inputs  = env.observation_space.shape[0]\n",
    "num_outputs = env.action_space.shape[0]\n",
    "hidden_size = 256\n",
    "device = 'cpu'\n",
    "load_model = ActorCritic(2*num_inputs, num_outputs, hidden_size).to(device)\n",
    "load_model = torch.load('model_hindsight_ppo', map_location = 'cpu')"
   ]
  },
  {
   "cell_type": "markdown",
   "metadata": {},
   "source": [
    "# Save Environment RGB Frame"
   ]
  },
  {
   "cell_type": "code",
   "execution_count": 6,
   "metadata": {},
   "outputs": [
    {
     "name": "stdout",
     "output_type": "stream",
     "text": [
      "total_reward:  -256.9926050612457\n"
     ]
    }
   ],
   "source": [
    "frames = []\n",
    "gif_file = 'Pendulum_HPPOModel9.gif'\n",
    "\n",
    "done = False\n",
    "total_reward = 0\n",
    "\n",
    "state = env.reset()\n",
    "goal = np.asarray([0, 0, 0])\n",
    "while not done:\n",
    "    frames.append(Image.fromarray(env.render(mode='rgb_array')))\n",
    "    state_goal = np.concatenate((state,goal),0)\n",
    "    state_goal = torch.FloatTensor(state_goal).unsqueeze(0).to(device)\n",
    "    dist, _ = load_model(state_goal)\n",
    "    next_state, reward, done, _ = env.step(dist.sample().cpu().numpy()[0])\n",
    "    state = next_state\n",
    "    total_reward += reward\n",
    "    \n",
    "print ('total_reward: ', total_reward)\n",
    "        \n",
    "with open(gif_file, 'wb') as f:  # change the path if necessary\n",
    "    im = Image.new('RGB', frames[0].size)\n",
    "    im.save(f, save_all=True, append_images=frames)"
   ]
  },
  {
   "cell_type": "markdown",
   "metadata": {},
   "source": [
    "# Display GIF File"
   ]
  },
  {
   "cell_type": "code",
   "execution_count": 5,
   "metadata": {},
   "outputs": [],
   "source": [
    "# from IPython.display import Image, display\n",
    "# X = Image(url='Pendulum_RandomAgent.gif')\n",
    "# display(X)"
   ]
  }
 ],
 "metadata": {
  "kernelspec": {
   "display_name": "Python 3",
   "language": "python",
   "name": "python3"
  },
  "language_info": {
   "codemirror_mode": {
    "name": "ipython",
    "version": 3
   },
   "file_extension": ".py",
   "mimetype": "text/x-python",
   "name": "python",
   "nbconvert_exporter": "python",
   "pygments_lexer": "ipython3",
   "version": "3.7.0"
  }
 },
 "nbformat": 4,
 "nbformat_minor": 2
}
